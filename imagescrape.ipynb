{
 "cells": [
  {
   "cell_type": "code",
   "execution_count": 14,
   "metadata": {
    "collapsed": false
   },
   "outputs": [],
   "source": [
    "# -*- coding: utf-8 -*-\n",
    "\"\"\"\n",
    "Created on Wed Aug  6 10:42:32 2014\n",
    "\n",
    "@author: Imperssonator\n",
    "\"\"\"\n",
    "\n",
    "\"\"\"\n",
    "dumpimages.py\n",
    "    Downloads all the images on the supplied URL, and saves them to the\n",
    "    specified output file (\"/test/\" by default)\n",
    "\n",
    "Usage:\n",
    "    python dumpimages.py http://example.com/ [output]\n",
    "\"\"\"\n",
    "\n",
    "from bs4 import BeautifulSoup as bs\n",
    "try:\n",
    "    import urllib.request as urllib2\n",
    "except:\n",
    "    import urllib2\n",
    "import os\n",
    "import sys"
   ]
  },
  {
   "cell_type": "code",
   "execution_count": 15,
   "metadata": {
    "collapsed": false
   },
   "outputs": [
    {
     "name": "stdout",
     "output_type": "stream",
     "text": [
      "/Users/Imperssonator/CC/Reverse_Plot/dump/\n"
     ]
    }
   ],
   "source": [
    "url=\"http://www.nature.com/srep/2013/130508/srep01801/full/srep01801.html?message-global=remove&WT.ec_id=SREP-639-20130603\"\n",
    "if os.name == 'posix':\n",
    "    out_folder=\"/Users/Imperssonator/CC/Reverse_Plot/dump/\"\n",
    "else:\n",
    "    out_folder=\"Perry's image dump folder\"\n",
    "    \n",
    "print(out_folder)"
   ]
  },
  {
   "cell_type": "code",
   "execution_count": 16,
   "metadata": {
    "collapsed": false
   },
   "outputs": [],
   "source": [
    "def main(url, out_folder):\n",
    "    \"\"\"Downloads all the images at 'url' to /test/\"\"\"\n",
    "    soup = bs(urllib2.urlopen(url))\n",
    "#    print(soup)\n",
    "    parsed = list(urllib2.urlparse(url))\n",
    "#    print(parsed)\n",
    "#    print(soup.findAll(\"img\"))\n",
    "    \n",
    "    for image in soup.findAll(\"img\"):\n",
    "        print(image)\n",
    "        filename = image[\"src\"].split(\"/\")[-1]\n",
    "        parsed[2] = image[\"src\"]\n",
    "        outpath = os.path.join(out_folder, filename)\n",
    "        print(outpath)\n",
    "        if image[\"src\"].lower().startswith(\"http\"):\n",
    "            urllib2.urlretrieve(image[\"src\"], outpath)\n",
    "        else:\n",
    "            urllib2.urlretrieve(urllib2.urlunparse(parsed), outpath)\n",
    "\n",
    "def _usage():\n",
    "    print(\"usage: python dumpimages.py http://example.com [outpath]\")"
   ]
  },
  {
   "cell_type": "code",
   "execution_count": 17,
   "metadata": {
    "collapsed": false
   },
   "outputs": [
    {
     "name": "stdout",
     "output_type": "stream",
     "text": [
      "<img alt=\"Advertisment\" height=\"90\" src=\"//pubads.g.doubleclick.net/gampad/ad?iu=/285/scientific_reports/article&amp;sz=728x90&amp;tile=1&amp;c=1459279055175&amp;t=template%3Dmosaic%26pos%3Dtop%26abr%3D%21webtv%26tile%3D1\" width=\"728\"/>\n",
      "/Users/Imperssonator/CC/Reverse_Plot/dump/article&sz=728x90&tile=1&c=1459279055175&t=template%3Dmosaic%26pos%3Dtop%26abr%3D%21webtv%26tile%3D1\n",
      "<img alt=\"\" class=\"header-logo-primary js-svg\" data-png=\"/uploads/product/srep/header-2175c8a0ae007ab5e67cff13f7cada4c.png\" src=\"/uploads/product/srep/header-0ac9ab04aca2b83e7fcac71b4de96391.svg\"/>\n",
      "/Users/Imperssonator/CC/Reverse_Plot/dump/header-0ac9ab04aca2b83e7fcac71b4de96391.svg\n",
      "<img alt=\"\" class=\"header-logo-secondary js-svg\" data-png=\"/uploads/product/srep/header-639825e5a239e73906e97aaaf446e3c3.png\" src=\"/uploads/product/srep/header-23ae76ce7a022fd9d5495e36259d1a03.svg\"/>\n",
      "/Users/Imperssonator/CC/Reverse_Plot/dump/header-23ae76ce7a022fd9d5495e36259d1a03.svg\n",
      "<img alt=\"\" class=\"altmetric-summary-bar\" src=\"https://altmetric-badges.a.ssl.fastly.net/?size=100&amp;score=202&amp;types=mbttwrfg&amp;style=bar&amp;svg\"/>\n",
      "/Users/Imperssonator/CC/Reverse_Plot/dump/?size=100&score=202&types=mbttwrfg&style=bar&svg\n",
      "<img alt=\"Figure 1\" class=\"block max-width\" itemprop=\"image\" src=\"/article-assets/npg/srep/2013/130508/srep01801/images_hires/m685/srep01801-f1.jpg\"/>\n",
      "/Users/Imperssonator/CC/Reverse_Plot/dump/srep01801-f1.jpg\n",
      "<img alt=\"Figure 2\" class=\"block max-width\" src=\"/article-assets/npg/srep/2013/130508/srep01801/images_hires/m685/srep01801-f2.jpg\"/>\n",
      "/Users/Imperssonator/CC/Reverse_Plot/dump/srep01801-f2.jpg\n",
      "<img alt=\"Figure 3\" class=\"block max-width\" src=\"/article-assets/npg/srep/2013/130508/srep01801/images_hires/m685/srep01801-f3.jpg\"/>\n",
      "/Users/Imperssonator/CC/Reverse_Plot/dump/srep01801-f3.jpg\n",
      "<img alt=\"Figure 4\" class=\"block max-width\" src=\"/article-assets/npg/srep/2013/130508/srep01801/images_hires/m685/srep01801-f4.jpg\"/>\n",
      "/Users/Imperssonator/CC/Reverse_Plot/dump/srep01801-f4.jpg\n",
      "<img alt=\"Creative Commons\" src=\"/public/journals/resources/icon-by-83219f4bcc294a35aafb0e8a456016a1.png\"/>\n",
      "/Users/Imperssonator/CC/Reverse_Plot/dump/icon-by-83219f4bcc294a35aafb0e8a456016a1.png\n",
      "<img alt=\"Figure 1\" class=\"max-width\" data-id=\"f1\" data-link=\"/articles/srep01801/figures/1\" data-num=\"1\" data-src=\"/article-assets/npg/srep/2013/130508/srep01801/images_hires/w582/srep01801-f1.jpg\" data-title=\"Returns from trading strategies based on &lt;i&gt;Wikipedia&lt;/i&gt; view and edit logs for articles relating to the companies forming the Dow Jones Industrial Average (DJIA).\"/>\n"
     ]
    },
    {
     "name": "stderr",
     "output_type": "stream",
     "text": [
      "//anaconda/envs/py35/lib/python3.5/site-packages/bs4/__init__.py:166: UserWarning: No parser was explicitly specified, so I'm using the best available HTML parser for this system (\"lxml\"). This usually isn't a problem, but if you run this code on another system, or in a different virtual environment, it may use a different parser and behave differently.\n",
      "\n",
      "To get rid of this warning, change this:\n",
      "\n",
      " BeautifulSoup([your markup])\n",
      "\n",
      "to this:\n",
      "\n",
      " BeautifulSoup([your markup], \"lxml\")\n",
      "\n",
      "  markup_type=markup_type))\n"
     ]
    },
    {
     "ename": "KeyError",
     "evalue": "'src'",
     "output_type": "error",
     "traceback": [
      "\u001b[0;31m---------------------------------------------------------------------------\u001b[0m",
      "\u001b[0;31mKeyError\u001b[0m                                  Traceback (most recent call last)",
      "\u001b[0;32m<ipython-input-17-4477f6dbb32c>\u001b[0m in \u001b[0;36m<module>\u001b[0;34m()\u001b[0m\n\u001b[0;32m----> 1\u001b[0;31m \u001b[0mmain\u001b[0m\u001b[0;34m(\u001b[0m\u001b[0murl\u001b[0m\u001b[0;34m,\u001b[0m \u001b[0mout_folder\u001b[0m\u001b[0;34m)\u001b[0m\u001b[0;34m\u001b[0m\u001b[0m\n\u001b[0m",
      "\u001b[0;32m<ipython-input-16-4c169ab70e7e>\u001b[0m in \u001b[0;36mmain\u001b[0;34m(url, out_folder)\u001b[0m\n\u001b[1;32m      9\u001b[0m     \u001b[0;32mfor\u001b[0m \u001b[0mimage\u001b[0m \u001b[0;32min\u001b[0m \u001b[0msoup\u001b[0m\u001b[0;34m.\u001b[0m\u001b[0mfindAll\u001b[0m\u001b[0;34m(\u001b[0m\u001b[0;34m\"img\"\u001b[0m\u001b[0;34m)\u001b[0m\u001b[0;34m:\u001b[0m\u001b[0;34m\u001b[0m\u001b[0m\n\u001b[1;32m     10\u001b[0m         \u001b[0mprint\u001b[0m\u001b[0;34m(\u001b[0m\u001b[0mimage\u001b[0m\u001b[0;34m)\u001b[0m\u001b[0;34m\u001b[0m\u001b[0m\n\u001b[0;32m---> 11\u001b[0;31m         \u001b[0mfilename\u001b[0m \u001b[0;34m=\u001b[0m \u001b[0mimage\u001b[0m\u001b[0;34m[\u001b[0m\u001b[0;34m\"src\"\u001b[0m\u001b[0;34m]\u001b[0m\u001b[0;34m.\u001b[0m\u001b[0msplit\u001b[0m\u001b[0;34m(\u001b[0m\u001b[0;34m\"/\"\u001b[0m\u001b[0;34m)\u001b[0m\u001b[0;34m[\u001b[0m\u001b[0;34m-\u001b[0m\u001b[0;36m1\u001b[0m\u001b[0;34m]\u001b[0m\u001b[0;34m\u001b[0m\u001b[0m\n\u001b[0m\u001b[1;32m     12\u001b[0m         \u001b[0mparsed\u001b[0m\u001b[0;34m[\u001b[0m\u001b[0;36m2\u001b[0m\u001b[0;34m]\u001b[0m \u001b[0;34m=\u001b[0m \u001b[0mimage\u001b[0m\u001b[0;34m[\u001b[0m\u001b[0;34m\"src\"\u001b[0m\u001b[0;34m]\u001b[0m\u001b[0;34m\u001b[0m\u001b[0m\n\u001b[1;32m     13\u001b[0m         \u001b[0moutpath\u001b[0m \u001b[0;34m=\u001b[0m \u001b[0mos\u001b[0m\u001b[0;34m.\u001b[0m\u001b[0mpath\u001b[0m\u001b[0;34m.\u001b[0m\u001b[0mjoin\u001b[0m\u001b[0;34m(\u001b[0m\u001b[0mout_folder\u001b[0m\u001b[0;34m,\u001b[0m \u001b[0mfilename\u001b[0m\u001b[0;34m)\u001b[0m\u001b[0;34m\u001b[0m\u001b[0m\n",
      "\u001b[0;32m//anaconda/envs/py35/lib/python3.5/site-packages/bs4/element.py\u001b[0m in \u001b[0;36m__getitem__\u001b[0;34m(self, key)\u001b[0m\n\u001b[1;32m    956\u001b[0m         \"\"\"tag[key] returns the value of the 'key' attribute for the tag,\n\u001b[1;32m    957\u001b[0m         and throws an exception if it's not there.\"\"\"\n\u001b[0;32m--> 958\u001b[0;31m         \u001b[0;32mreturn\u001b[0m \u001b[0mself\u001b[0m\u001b[0;34m.\u001b[0m\u001b[0mattrs\u001b[0m\u001b[0;34m[\u001b[0m\u001b[0mkey\u001b[0m\u001b[0;34m]\u001b[0m\u001b[0;34m\u001b[0m\u001b[0m\n\u001b[0m\u001b[1;32m    959\u001b[0m \u001b[0;34m\u001b[0m\u001b[0m\n\u001b[1;32m    960\u001b[0m     \u001b[0;32mdef\u001b[0m \u001b[0m__iter__\u001b[0m\u001b[0;34m(\u001b[0m\u001b[0mself\u001b[0m\u001b[0;34m)\u001b[0m\u001b[0;34m:\u001b[0m\u001b[0;34m\u001b[0m\u001b[0m\n",
      "\u001b[0;31mKeyError\u001b[0m: 'src'"
     ]
    }
   ],
   "source": [
    "main(url, out_folder)"
   ]
  },
  {
   "cell_type": "code",
   "execution_count": null,
   "metadata": {
    "collapsed": true
   },
   "outputs": [],
   "source": []
  }
 ],
 "metadata": {
  "kernelspec": {
   "display_name": "Python 3",
   "language": "python",
   "name": "python3"
  },
  "language_info": {
   "codemirror_mode": {
    "name": "ipython",
    "version": 3
   },
   "file_extension": ".py",
   "mimetype": "text/x-python",
   "name": "python",
   "nbconvert_exporter": "python",
   "pygments_lexer": "ipython3",
   "version": "3.5.1"
  }
 },
 "nbformat": 4,
 "nbformat_minor": 0
}
